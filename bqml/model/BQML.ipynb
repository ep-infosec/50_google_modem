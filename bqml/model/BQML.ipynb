{
  "cells": [
    {
      "cell_type": "markdown",
      "metadata": {
        "colab_type": "text",
        "id": "WBdsNRDo15g5"
      },
      "source": [
        "**Disclaimer:** The following code demonstrates a sample BQML model creation based on GA-BQ export. This is meant for inspiration only. We expect analysts/data scientists to identify the right set of features to create retargeted audiences based on their business needs. "
      ]
    },
    {
      "cell_type": "markdown",
      "metadata": {
        "colab_type": "text",
        "id": "Tc4zXXhL1pmy"
      },
      "source": [
        "#Change Params and Authenticate"
      ]
    },
    {
      "cell_type": "code",
      "execution_count": null,
      "metadata": {
        "cellView": "both",
        "colab": {},
        "colab_type": "code",
        "id": "viewEf0d2XZn"
      },
      "outputs": [],
      "source": [
        "project_id = \"my_project\" #@param {type:\"string\"}\n",
        "example_dataset = \"my_schema\" #@param {type:\"string\"}"
      ]
    },
    {
      "cell_type": "code",
      "execution_count": null,
      "metadata": {
        "colab": {},
        "colab_type": "code",
        "id": "OiJMQLQ6yYhH"
      },
      "outputs": [],
      "source": [
        "from google.colab import auth\n",
        "auth.authenticate_user()"
      ]
    },
    {
      "cell_type": "markdown",
      "metadata": {
        "colab_type": "text",
        "id": "yHad0X1c0tQJ"
      },
      "source": [
        "# Generate and load sample GA dataset\n",
        "Based on an anonymized public GA dataset"
      ]
    },
    {
      "cell_type": "code",
      "execution_count": null,
      "metadata": {
        "colab": {},
        "colab_type": "code",
        "id": "gg9xpKH82BiN"
      },
      "outputs": [],
      "source": [
        "%%bigquery --project=$project_id df\n",
        "WITH sample_raw_data AS (\n",
        "  SELECT CAST(CEIL(RAND() * 100) AS INT64) AS clientId, * EXCEPT (clientId) FROM `bigquery-public-data.google_analytics_sample.ga_sessions_20170801` LIMIT 1000\n",
        "),\n",
        "visit_data AS (\n",
        "  SELECT clientId, SUM(totals.visits) AS all_visits, CAST(ROUND(RAND() * 1) AS INT64) AS converted\n",
        "  FROM sample_raw_data\n",
        "  GROUP BY clientId\n",
        ")\n",
        "SELECT *\n",
        "FROM visit_data"
      ]
    },
    {
      "cell_type": "code",
      "execution_count": null,
      "metadata": {
        "colab": {},
        "colab_type": "code",
        "id": "eHK2PHopzn8J"
      },
      "outputs": [],
      "source": [
        "df.head()"
      ]
    },
    {
      "cell_type": "code",
      "execution_count": null,
      "metadata": {
        "colab": {},
        "colab_type": "code",
        "id": "Hnn4Phkuqwvr"
      },
      "outputs": [],
      "source": [
        "import math\n",
        "training_data_size = math.ceil(df.shape[0] * 0.7)"
      ]
    },
    {
      "cell_type": "code",
      "execution_count": null,
      "metadata": {
        "colab": {},
        "colab_type": "code",
        "id": "FaY8gp1zq0Iy"
      },
      "outputs": [],
      "source": [
        "training_data = df[:training_data_size]\n",
        "test_data = df[training_data_size:]"
      ]
    },
    {
      "cell_type": "code",
      "execution_count": null,
      "metadata": {
        "colab": {},
        "colab_type": "code",
        "id": "eVSlokRcrGnP"
      },
      "outputs": [],
      "source": [
        "training_data.to_csv('training.csv', index=False)\n",
        "test_data.to_csv('test.csv', index=False)"
      ]
    },
    {
      "cell_type": "code",
      "execution_count": null,
      "metadata": {
        "colab": {},
        "colab_type": "code",
        "id": "oSvy0HPlrJv5"
      },
      "outputs": [],
      "source": [
        "!bq load --project_id $project_id --autodetect --source_format='CSV' $example_dataset\".training_data\" training.csv\n",
        "!bq load --project_id $project_id --autodetect --source_format='CSV' $example_dataset\".test_data\" test.csv"
      ]
    },
    {
      "cell_type": "markdown",
      "metadata": {
        "colab_type": "text",
        "id": "afxia25a1I6U"
      },
      "source": [
        "# Create a BQML model\n",
        "\n",
        "Creating a logistic regression model that tries to predict if a user converts based on total number of visits."
      ]
    },
    {
      "cell_type": "code",
      "execution_count": null,
      "metadata": {
        "colab": {},
        "colab_type": "code",
        "id": "Vn-m-kDbsbsx"
      },
      "outputs": [],
      "source": [
        "%%bigquery --project=$project_id\n",
        "CREATE OR REPLACE MODEL `my_schema.test_model` \n",
        "OPTIONS (model_type='logistic_reg', input_label_cols=['converted'], auto_class_weights=True) AS\n",
        "(\n",
        "  SELECT all_visits, converted \n",
        "  FROM `my_schema.training_data`\n",
        ")"
      ]
    },
    {
      "cell_type": "markdown",
      "metadata": {
        "colab_type": "text",
        "id": "orAVUX-_1M-C"
      },
      "source": [
        "# Evaluate a BQML model"
      ]
    },
    {
      "cell_type": "code",
      "execution_count": null,
      "metadata": {
        "colab": {},
        "colab_type": "code",
        "id": "1vARzjeesjpm"
      },
      "outputs": [],
      "source": [
        "%%bigquery --project=$project_id\n",
        "SELECT * \n",
        "FROM ML.EVALUATE(MODEL `my_schema.test_model`, \n",
        "                 (SELECT * FROM `my_schema.test_data`))"
      ]
    },
    {
      "cell_type": "markdown",
      "metadata": {
        "colab_type": "text",
        "id": "1VMQPB4E1RzK"
      },
      "source": [
        "# Predict using a BQML model \n",
        "We'd need this query for automating audience import in GA."
      ]
    },
    {
      "cell_type": "code",
      "execution_count": null,
      "metadata": {
        "colab": {},
        "colab_type": "code",
        "id": "39Zm11cpw3rB"
      },
      "outputs": [],
      "source": [
        "%%bigquery --project=$project_id predicted_df\n",
        "SELECT clientId AS ga_userId, NTILE(10) OVER (ORDER BY prob DESC) AS ga_dimension1 \n",
        "FROM ML.PREDICT(MODEL `my_schema.test_model`, \n",
        "                (SELECT * FROM `my_schema.test_data`)),\n",
        "     UNNEST(predicted_converted_probs)"
      ]
    },
    {
      "cell_type": "code",
      "execution_count": null,
      "metadata": {
        "colab": {},
        "colab_type": "code",
        "id": "R475gekF4VdE"
      },
      "outputs": [],
      "source": [
        "predicted_df.head()"
      ]
    }
  ],
  "metadata": {
    "colab": {
      "collapsed_sections": [],
      "name": "BQML.ipynb",
      "private_outputs": true,
      "provenance": []
    },
    "kernelspec": {
      "display_name": "Python 3",
      "name": "python3"
    }
  },
  "nbformat": 4,
  "nbformat_minor": 0
}
